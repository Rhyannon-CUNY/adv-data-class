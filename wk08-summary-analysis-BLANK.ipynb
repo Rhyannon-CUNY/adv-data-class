{
 "cells": [
  {
   "cell_type": "markdown",
   "id": "163c0f36-fc90-4eec-8970-e386a31c8604",
   "metadata": {},
   "source": [
    "# Data Aggregation/Summary Analysis \n",
    "\n",
    "### Education loans data\n",
    "\n",
    "Let's analyze a few years of Federal direct loans <a href=\"https://studentaid.gov/data-center/student/title-iv\">taken from here</a>.\n",
    "\n",
    "For our exercise, we have <a href=\"https://raw.githubusercontent.com/sandeepmj/datasets/main/student-loan-data-comparable-quarters.csv\">student loan data</a> for **first quarters** of academic years **2021-2022** and **2022-2023**."
   ]
  },
  {
   "cell_type": "code",
   "execution_count": 1,
   "id": "ded1af0a-cdd3-4109-95a1-05a429453ba5",
   "metadata": {},
   "outputs": [],
   "source": [
    "import pandas as pd"
   ]
  },
  {
   "cell_type": "code",
   "execution_count": 3,
   "id": "920cf51c-2e8d-4c46-9b17-bc26bcf75ea8",
   "metadata": {},
   "outputs": [],
   "source": [
    "df = pd.read_csv(\"https://raw.githubusercontent.com/sandeepmj/datasets/main/student-loan-data-comparable-quarters.csv\")"
   ]
  },
  {
   "cell_type": "code",
   "execution_count": 7,
   "id": "6c6be523-d07c-441b-bafb-c36beb375031",
   "metadata": {},
   "outputs": [
    {
     "name": "stdout",
     "output_type": "stream",
     "text": [
      "<class 'pandas.core.frame.DataFrame'>\n",
      "RangeIndex: 8614 entries, 0 to 8613\n",
      "Data columns (total 11 columns):\n",
      " #   Column         Non-Null Count  Dtype  \n",
      "---  ------         --------------  -----  \n",
      " 0   OPE ID         8614 non-null   int64  \n",
      " 1   School         8614 non-null   object \n",
      " 2   State          8251 non-null   object \n",
      " 3   zip            8614 non-null   object \n",
      " 4   School Type    8614 non-null   object \n",
      " 5   dl_sub_#       7972 non-null   float64\n",
      " 6   dl_sub_$       7972 non-null   float64\n",
      " 7   dl_unsub_#     7975 non-null   float64\n",
      " 8   dl_unsub_$     7975 non-null   float64\n",
      " 9   academic_year  8614 non-null   object \n",
      " 10  Quarter        8614 non-null   int64  \n",
      "dtypes: float64(4), int64(2), object(5)\n",
      "memory usage: 740.4+ KB\n"
     ]
    }
   ],
   "source": [
    "df.info()"
   ]
  },
  {
   "cell_type": "code",
   "execution_count": 9,
   "id": "92512f15-7eb6-49ce-b999-4f534eea2c54",
   "metadata": {},
   "outputs": [
    {
     "data": {
      "text/html": [
       "<div>\n",
       "<style scoped>\n",
       "    .dataframe tbody tr th:only-of-type {\n",
       "        vertical-align: middle;\n",
       "    }\n",
       "\n",
       "    .dataframe tbody tr th {\n",
       "        vertical-align: top;\n",
       "    }\n",
       "\n",
       "    .dataframe thead th {\n",
       "        text-align: right;\n",
       "    }\n",
       "</style>\n",
       "<table border=\"1\" class=\"dataframe\">\n",
       "  <thead>\n",
       "    <tr style=\"text-align: right;\">\n",
       "      <th></th>\n",
       "      <th>OPE ID</th>\n",
       "      <th>dl_sub_#</th>\n",
       "      <th>dl_sub_$</th>\n",
       "      <th>dl_unsub_#</th>\n",
       "      <th>dl_unsub_$</th>\n",
       "      <th>Quarter</th>\n",
       "    </tr>\n",
       "  </thead>\n",
       "  <tbody>\n",
       "    <tr>\n",
       "      <th>count</th>\n",
       "      <td>8.614000e+03</td>\n",
       "      <td>7972.000000</td>\n",
       "      <td>7.972000e+03</td>\n",
       "      <td>7975.000000</td>\n",
       "      <td>7.975000e+03</td>\n",
       "      <td>8614.0</td>\n",
       "    </tr>\n",
       "    <tr>\n",
       "      <th>mean</th>\n",
       "      <td>1.630314e+06</td>\n",
       "      <td>630.836051</td>\n",
       "      <td>1.239051e+06</td>\n",
       "      <td>686.005266</td>\n",
       "      <td>1.346809e+06</td>\n",
       "      <td>1.0</td>\n",
       "    </tr>\n",
       "    <tr>\n",
       "      <th>std</th>\n",
       "      <td>1.558731e+06</td>\n",
       "      <td>1412.327943</td>\n",
       "      <td>2.814541e+06</td>\n",
       "      <td>1555.280596</td>\n",
       "      <td>3.127407e+06</td>\n",
       "      <td>0.0</td>\n",
       "    </tr>\n",
       "    <tr>\n",
       "      <th>min</th>\n",
       "      <td>1.002000e+05</td>\n",
       "      <td>1.000000</td>\n",
       "      <td>6.800000e+01</td>\n",
       "      <td>1.000000</td>\n",
       "      <td>1.420000e+02</td>\n",
       "      <td>1.0</td>\n",
       "    </tr>\n",
       "    <tr>\n",
       "      <th>25%</th>\n",
       "      <td>2.853250e+05</td>\n",
       "      <td>19.000000</td>\n",
       "      <td>2.814250e+04</td>\n",
       "      <td>18.000000</td>\n",
       "      <td>3.269300e+04</td>\n",
       "      <td>1.0</td>\n",
       "    </tr>\n",
       "    <tr>\n",
       "      <th>50%</th>\n",
       "      <td>8.447500e+05</td>\n",
       "      <td>135.500000</td>\n",
       "      <td>2.195570e+05</td>\n",
       "      <td>136.000000</td>\n",
       "      <td>2.527800e+05</td>\n",
       "      <td>1.0</td>\n",
       "    </tr>\n",
       "    <tr>\n",
       "      <th>75%</th>\n",
       "      <td>3.099750e+06</td>\n",
       "      <td>600.000000</td>\n",
       "      <td>1.202372e+06</td>\n",
       "      <td>660.000000</td>\n",
       "      <td>1.264352e+06</td>\n",
       "      <td>1.0</td>\n",
       "    </tr>\n",
       "    <tr>\n",
       "      <th>max</th>\n",
       "      <td>4.304600e+06</td>\n",
       "      <td>24266.000000</td>\n",
       "      <td>5.200398e+07</td>\n",
       "      <td>26887.000000</td>\n",
       "      <td>7.101271e+07</td>\n",
       "      <td>1.0</td>\n",
       "    </tr>\n",
       "  </tbody>\n",
       "</table>\n",
       "</div>"
      ],
      "text/plain": [
       "             OPE ID      dl_sub_#      dl_sub_$    dl_unsub_#    dl_unsub_$  \\\n",
       "count  8.614000e+03   7972.000000  7.972000e+03   7975.000000  7.975000e+03   \n",
       "mean   1.630314e+06    630.836051  1.239051e+06    686.005266  1.346809e+06   \n",
       "std    1.558731e+06   1412.327943  2.814541e+06   1555.280596  3.127407e+06   \n",
       "min    1.002000e+05      1.000000  6.800000e+01      1.000000  1.420000e+02   \n",
       "25%    2.853250e+05     19.000000  2.814250e+04     18.000000  3.269300e+04   \n",
       "50%    8.447500e+05    135.500000  2.195570e+05    136.000000  2.527800e+05   \n",
       "75%    3.099750e+06    600.000000  1.202372e+06    660.000000  1.264352e+06   \n",
       "max    4.304600e+06  24266.000000  5.200398e+07  26887.000000  7.101271e+07   \n",
       "\n",
       "       Quarter  \n",
       "count   8614.0  \n",
       "mean       1.0  \n",
       "std        0.0  \n",
       "min        1.0  \n",
       "25%        1.0  \n",
       "50%        1.0  \n",
       "75%        1.0  \n",
       "max        1.0  "
      ]
     },
     "execution_count": 9,
     "metadata": {},
     "output_type": "execute_result"
    }
   ],
   "source": [
    "df.describe()"
   ]
  },
  {
   "cell_type": "code",
   "execution_count": 15,
   "id": "f1a9446c-1089-4dfb-9b5f-40acb16dc526",
   "metadata": {},
   "outputs": [],
   "source": [
    "pd.options.display.float_format = '{:,.0f}'.format"
   ]
  },
  {
   "cell_type": "code",
   "execution_count": 19,
   "id": "4c5acb15-0507-4f70-9c54-9c939861f77e",
   "metadata": {},
   "outputs": [
    {
     "data": {
      "text/html": [
       "<div>\n",
       "<style scoped>\n",
       "    .dataframe tbody tr th:only-of-type {\n",
       "        vertical-align: middle;\n",
       "    }\n",
       "\n",
       "    .dataframe tbody tr th {\n",
       "        vertical-align: top;\n",
       "    }\n",
       "\n",
       "    .dataframe thead th {\n",
       "        text-align: right;\n",
       "    }\n",
       "</style>\n",
       "<table border=\"1\" class=\"dataframe\">\n",
       "  <thead>\n",
       "    <tr style=\"text-align: right;\">\n",
       "      <th></th>\n",
       "      <th>OPE ID</th>\n",
       "      <th>dl_sub_#</th>\n",
       "      <th>dl_sub_$</th>\n",
       "      <th>dl_unsub_#</th>\n",
       "      <th>dl_unsub_$</th>\n",
       "      <th>Quarter</th>\n",
       "    </tr>\n",
       "  </thead>\n",
       "  <tbody>\n",
       "    <tr>\n",
       "      <th>count</th>\n",
       "      <td>8,614</td>\n",
       "      <td>7,972</td>\n",
       "      <td>7,972</td>\n",
       "      <td>7,975</td>\n",
       "      <td>7,975</td>\n",
       "      <td>8,614</td>\n",
       "    </tr>\n",
       "    <tr>\n",
       "      <th>mean</th>\n",
       "      <td>1,630,314</td>\n",
       "      <td>631</td>\n",
       "      <td>1,239,051</td>\n",
       "      <td>686</td>\n",
       "      <td>1,346,809</td>\n",
       "      <td>1</td>\n",
       "    </tr>\n",
       "    <tr>\n",
       "      <th>std</th>\n",
       "      <td>1,558,731</td>\n",
       "      <td>1,412</td>\n",
       "      <td>2,814,541</td>\n",
       "      <td>1,555</td>\n",
       "      <td>3,127,407</td>\n",
       "      <td>0</td>\n",
       "    </tr>\n",
       "    <tr>\n",
       "      <th>min</th>\n",
       "      <td>100,200</td>\n",
       "      <td>1</td>\n",
       "      <td>68</td>\n",
       "      <td>1</td>\n",
       "      <td>142</td>\n",
       "      <td>1</td>\n",
       "    </tr>\n",
       "    <tr>\n",
       "      <th>25%</th>\n",
       "      <td>285,325</td>\n",
       "      <td>19</td>\n",
       "      <td>28,142</td>\n",
       "      <td>18</td>\n",
       "      <td>32,693</td>\n",
       "      <td>1</td>\n",
       "    </tr>\n",
       "    <tr>\n",
       "      <th>50%</th>\n",
       "      <td>844,750</td>\n",
       "      <td>136</td>\n",
       "      <td>219,557</td>\n",
       "      <td>136</td>\n",
       "      <td>252,780</td>\n",
       "      <td>1</td>\n",
       "    </tr>\n",
       "    <tr>\n",
       "      <th>75%</th>\n",
       "      <td>3,099,750</td>\n",
       "      <td>600</td>\n",
       "      <td>1,202,372</td>\n",
       "      <td>660</td>\n",
       "      <td>1,264,352</td>\n",
       "      <td>1</td>\n",
       "    </tr>\n",
       "    <tr>\n",
       "      <th>max</th>\n",
       "      <td>4,304,600</td>\n",
       "      <td>24,266</td>\n",
       "      <td>52,003,984</td>\n",
       "      <td>26,887</td>\n",
       "      <td>71,012,713</td>\n",
       "      <td>1</td>\n",
       "    </tr>\n",
       "  </tbody>\n",
       "</table>\n",
       "</div>"
      ],
      "text/plain": [
       "         OPE ID  dl_sub_#   dl_sub_$  dl_unsub_#  dl_unsub_$  Quarter\n",
       "count     8,614     7,972      7,972       7,975       7,975    8,614\n",
       "mean  1,630,314       631  1,239,051         686   1,346,809        1\n",
       "std   1,558,731     1,412  2,814,541       1,555   3,127,407        0\n",
       "min     100,200         1         68           1         142        1\n",
       "25%     285,325        19     28,142          18      32,693        1\n",
       "50%     844,750       136    219,557         136     252,780        1\n",
       "75%   3,099,750       600  1,202,372         660   1,264,352        1\n",
       "max   4,304,600    24,266 52,003,984      26,887  71,012,713        1"
      ]
     },
     "execution_count": 19,
     "metadata": {},
     "output_type": "execute_result"
    }
   ],
   "source": [
    "df.describe()"
   ]
  },
  {
   "cell_type": "code",
   "execution_count": 23,
   "id": "8d0e9b72-2e11-4547-addd-2ae791bc3f52",
   "metadata": {},
   "outputs": [
    {
     "data": {
      "text/plain": [
       "'The total for all direct subsidized loans in Q1 of academic years was $9,877,712,740'"
      ]
     },
     "execution_count": 23,
     "metadata": {},
     "output_type": "execute_result"
    }
   ],
   "source": [
    "f\"The total for all direct subsidized loans in Q1 of academic years was ${df['dl_sub_$'].sum():,.0F}\""
   ]
  },
  {
   "cell_type": "code",
   "execution_count": 27,
   "id": "5fc0add9-875c-4ff8-b7d6-fca9d32ceb3c",
   "metadata": {},
   "outputs": [
    {
     "data": {
      "text/plain": [
       "2814540.8940481567"
      ]
     },
     "execution_count": 27,
     "metadata": {},
     "output_type": "execute_result"
    }
   ],
   "source": [
    "df[\"dl_sub_$\"].std()"
   ]
  },
  {
   "cell_type": "code",
   "execution_count": 31,
   "id": "39b819e4-b445-4647-805f-346129b981c0",
   "metadata": {},
   "outputs": [
    {
     "data": {
      "text/plain": [
       "dl_sub_$      9,877,712,740\n",
       "dl_unsub_$   10,740,802,223\n",
       "dtype: float64"
      ]
     },
     "execution_count": 31,
     "metadata": {},
     "output_type": "execute_result"
    }
   ],
   "source": [
    "df[[\"dl_sub_$\", \"dl_unsub_$\"]].sum()"
   ]
  },
  {
   "cell_type": "code",
   "execution_count": 33,
   "id": "ebd3fad9-5330-41f9-a983-0234c3cfb4c3",
   "metadata": {},
   "outputs": [
    {
     "data": {
      "text/html": [
       "<div>\n",
       "<style scoped>\n",
       "    .dataframe tbody tr th:only-of-type {\n",
       "        vertical-align: middle;\n",
       "    }\n",
       "\n",
       "    .dataframe tbody tr th {\n",
       "        vertical-align: top;\n",
       "    }\n",
       "\n",
       "    .dataframe thead th {\n",
       "        text-align: right;\n",
       "    }\n",
       "</style>\n",
       "<table border=\"1\" class=\"dataframe\">\n",
       "  <thead>\n",
       "    <tr style=\"text-align: right;\">\n",
       "      <th></th>\n",
       "      <th>Total Loan Amounts</th>\n",
       "    </tr>\n",
       "  </thead>\n",
       "  <tbody>\n",
       "    <tr>\n",
       "      <th>dl_sub_$</th>\n",
       "      <td>9,877,712,740</td>\n",
       "    </tr>\n",
       "    <tr>\n",
       "      <th>dl_unsub_$</th>\n",
       "      <td>10,740,802,223</td>\n",
       "    </tr>\n",
       "  </tbody>\n",
       "</table>\n",
       "</div>"
      ],
      "text/plain": [
       "            Total Loan Amounts\n",
       "dl_sub_$         9,877,712,740\n",
       "dl_unsub_$      10,740,802,223"
      ]
     },
     "execution_count": 33,
     "metadata": {},
     "output_type": "execute_result"
    }
   ],
   "source": [
    "df[[\"dl_sub_$\", \"dl_unsub_$\"]].sum().to_frame(\"Total Loan Amounts\")"
   ]
  },
  {
   "cell_type": "code",
   "execution_count": 35,
   "id": "922a0d1e-ca92-46ab-8805-6c27c0dd4cd5",
   "metadata": {},
   "outputs": [
    {
     "data": {
      "text/plain": [
       "sum      9,877,712,740\n",
       "median         219,557\n",
       "max         52,003,984\n",
       "Name: dl_sub_$, dtype: float64"
      ]
     },
     "execution_count": 35,
     "metadata": {},
     "output_type": "execute_result"
    }
   ],
   "source": [
    "df[\"dl_sub_$\"].agg([\"sum\", \"median\", \"max\"])"
   ]
  },
  {
   "cell_type": "code",
   "execution_count": 37,
   "id": "188940f9-89f7-4e0a-b61d-461ef4fd07ee",
   "metadata": {},
   "outputs": [],
   "source": [
    "target_stats = [\"sum\", \"mean\", \"median\", \"std\"]"
   ]
  },
  {
   "cell_type": "code",
   "execution_count": 39,
   "id": "fb9d4631-205a-466c-8291-bac5786b795a",
   "metadata": {},
   "outputs": [
    {
     "data": {
      "text/html": [
       "<div>\n",
       "<style scoped>\n",
       "    .dataframe tbody tr th:only-of-type {\n",
       "        vertical-align: middle;\n",
       "    }\n",
       "\n",
       "    .dataframe tbody tr th {\n",
       "        vertical-align: top;\n",
       "    }\n",
       "\n",
       "    .dataframe thead th {\n",
       "        text-align: right;\n",
       "    }\n",
       "</style>\n",
       "<table border=\"1\" class=\"dataframe\">\n",
       "  <thead>\n",
       "    <tr style=\"text-align: right;\">\n",
       "      <th></th>\n",
       "      <th>Direct Subsidized Loans</th>\n",
       "    </tr>\n",
       "  </thead>\n",
       "  <tbody>\n",
       "    <tr>\n",
       "      <th>sum</th>\n",
       "      <td>9,877,712,740</td>\n",
       "    </tr>\n",
       "    <tr>\n",
       "      <th>mean</th>\n",
       "      <td>1,239,051</td>\n",
       "    </tr>\n",
       "    <tr>\n",
       "      <th>median</th>\n",
       "      <td>219,557</td>\n",
       "    </tr>\n",
       "    <tr>\n",
       "      <th>std</th>\n",
       "      <td>2,814,541</td>\n",
       "    </tr>\n",
       "  </tbody>\n",
       "</table>\n",
       "</div>"
      ],
      "text/plain": [
       "        Direct Subsidized Loans\n",
       "sum               9,877,712,740\n",
       "mean                  1,239,051\n",
       "median                  219,557\n",
       "std                   2,814,541"
      ]
     },
     "execution_count": 39,
     "metadata": {},
     "output_type": "execute_result"
    }
   ],
   "source": [
    "df[\"dl_sub_$\"].agg(target_stats).to_frame(\"Direct Subsidized Loans\")"
   ]
  },
  {
   "cell_type": "code",
   "execution_count": 41,
   "id": "5c5a1297-a212-4120-a529-fa0bf591f4ac",
   "metadata": {},
   "outputs": [
    {
     "data": {
      "text/html": [
       "<div>\n",
       "<style scoped>\n",
       "    .dataframe tbody tr th:only-of-type {\n",
       "        vertical-align: middle;\n",
       "    }\n",
       "\n",
       "    .dataframe tbody tr th {\n",
       "        vertical-align: top;\n",
       "    }\n",
       "\n",
       "    .dataframe thead th {\n",
       "        text-align: right;\n",
       "    }\n",
       "</style>\n",
       "<table border=\"1\" class=\"dataframe\">\n",
       "  <thead>\n",
       "    <tr style=\"text-align: right;\">\n",
       "      <th></th>\n",
       "      <th>dl_sub_$</th>\n",
       "      <th>dl_unsub_$</th>\n",
       "    </tr>\n",
       "  </thead>\n",
       "  <tbody>\n",
       "    <tr>\n",
       "      <th>sum</th>\n",
       "      <td>9,877,712,740</td>\n",
       "      <td>10,740,802,223</td>\n",
       "    </tr>\n",
       "    <tr>\n",
       "      <th>mean</th>\n",
       "      <td>1,239,051</td>\n",
       "      <td>1,346,809</td>\n",
       "    </tr>\n",
       "    <tr>\n",
       "      <th>median</th>\n",
       "      <td>219,557</td>\n",
       "      <td>252,780</td>\n",
       "    </tr>\n",
       "    <tr>\n",
       "      <th>std</th>\n",
       "      <td>2,814,541</td>\n",
       "      <td>3,127,407</td>\n",
       "    </tr>\n",
       "  </tbody>\n",
       "</table>\n",
       "</div>"
      ],
      "text/plain": [
       "            dl_sub_$     dl_unsub_$\n",
       "sum    9,877,712,740 10,740,802,223\n",
       "mean       1,239,051      1,346,809\n",
       "median       219,557        252,780\n",
       "std        2,814,541      3,127,407"
      ]
     },
     "execution_count": 41,
     "metadata": {},
     "output_type": "execute_result"
    }
   ],
   "source": [
    "df[[\"dl_sub_$\", \"dl_unsub_$\"]].agg(target_stats)"
   ]
  },
  {
   "cell_type": "code",
   "execution_count": null,
   "id": "96ff0825-4e06-4c02-b012-c10bf4c647b0",
   "metadata": {},
   "outputs": [],
   "source": []
  }
 ],
 "metadata": {
  "kernelspec": {
   "display_name": "Python [conda env:base] *",
   "language": "python",
   "name": "conda-base-py"
  },
  "language_info": {
   "codemirror_mode": {
    "name": "ipython",
    "version": 3
   },
   "file_extension": ".py",
   "mimetype": "text/x-python",
   "name": "python",
   "nbconvert_exporter": "python",
   "pygments_lexer": "ipython3",
   "version": "3.12.7"
  }
 },
 "nbformat": 4,
 "nbformat_minor": 5
}
