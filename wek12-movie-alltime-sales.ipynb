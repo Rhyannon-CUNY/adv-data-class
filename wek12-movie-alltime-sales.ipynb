{
 "cells": [
  {
   "cell_type": "markdown",
   "id": "bd1d9acc-502e-4c83-a315-b7c514be2bb3",
   "metadata": {},
   "source": [
    "# Call and Response Challenge"
   ]
  },
  {
   "cell_type": "markdown",
   "id": "dcf190bd-16ae-44ed-807f-31ff84a5b454",
   "metadata": {},
   "source": [
    "## import libraries\n",
    "\n",
    "## import data\n",
    "\n",
    "## function to account for inflation \n",
    "\n",
    "## merge datasets "
   ]
  },
  {
   "cell_type": "code",
   "execution_count": 21,
   "id": "eb99d642-f709-4107-9c5e-e7a90a2275d9",
   "metadata": {},
   "outputs": [],
   "source": [
    "## import  libraries \n",
    "\n",
    "import pandas as pd\n",
    "\n",
    "## run the \n",
    "\n",
    "pd.options.display.float_format = '{:,.0f}'.format"
   ]
  },
  {
   "cell_type": "code",
   "execution_count": 23,
   "id": "0727335f-a211-4898-a75d-94cb2f168a75",
   "metadata": {},
   "outputs": [
    {
     "data": {
      "text/html": [
       "<div>\n",
       "<style scoped>\n",
       "    .dataframe tbody tr th:only-of-type {\n",
       "        vertical-align: middle;\n",
       "    }\n",
       "\n",
       "    .dataframe tbody tr th {\n",
       "        vertical-align: top;\n",
       "    }\n",
       "\n",
       "    .dataframe thead th {\n",
       "        text-align: right;\n",
       "    }\n",
       "</style>\n",
       "<table border=\"1\" class=\"dataframe\">\n",
       "  <thead>\n",
       "    <tr style=\"text-align: right;\">\n",
       "      <th></th>\n",
       "      <th>Movie Name</th>\n",
       "      <th>release year</th>\n",
       "      <th>Production Budget (USD)</th>\n",
       "      <th>Domestic Gross (USD)</th>\n",
       "      <th>Worldwide Gross (USD)</th>\n",
       "      <th>Domestic Box Office (USD)</th>\n",
       "      <th>International Box Office (USD)</th>\n",
       "      <th>Worldwide Box Office (USD)</th>\n",
       "      <th>Total Est. Domestic Video Sales (USD)</th>\n",
       "      <th>Opening Weekend (USD)</th>\n",
       "      <th>MPAA Rating</th>\n",
       "    </tr>\n",
       "  </thead>\n",
       "  <tbody>\n",
       "    <tr>\n",
       "      <th>0</th>\n",
       "      <td>Star Wars Ep. VII: The Force Awakens</td>\n",
       "      <td>2015</td>\n",
       "      <td>533200000</td>\n",
       "      <td>936662225</td>\n",
       "      <td>2056046835</td>\n",
       "      <td>936662225</td>\n",
       "      <td>1119384610</td>\n",
       "      <td>2056046835</td>\n",
       "      <td>191160811</td>\n",
       "      <td>247966675</td>\n",
       "      <td>PG-13</td>\n",
       "    </tr>\n",
       "    <tr>\n",
       "      <th>1</th>\n",
       "      <td>Avatar: The Way of Water</td>\n",
       "      <td>2022</td>\n",
       "      <td>460000000</td>\n",
       "      <td>684075767</td>\n",
       "      <td>2315589775</td>\n",
       "      <td>684075767</td>\n",
       "      <td>1631514008</td>\n",
       "      <td>2315589775</td>\n",
       "      <td>19136524</td>\n",
       "      <td>134100226</td>\n",
       "      <td>PG-13</td>\n",
       "    </tr>\n",
       "    <tr>\n",
       "      <th>2</th>\n",
       "      <td>Indiana Jones and the Dial of Destiny</td>\n",
       "      <td>2023</td>\n",
       "      <td>402300000</td>\n",
       "      <td>174480468</td>\n",
       "      <td>383963057</td>\n",
       "      <td>174480468</td>\n",
       "      <td>209482589</td>\n",
       "      <td>383963057</td>\n",
       "      <td>NaN</td>\n",
       "      <td>60368101</td>\n",
       "      <td>PG-13</td>\n",
       "    </tr>\n",
       "    <tr>\n",
       "      <th>3</th>\n",
       "      <td>Avengers: Endgame</td>\n",
       "      <td>2019</td>\n",
       "      <td>400000000</td>\n",
       "      <td>858373000</td>\n",
       "      <td>2748242781</td>\n",
       "      <td>858373000</td>\n",
       "      <td>1889869781</td>\n",
       "      <td>2748242781</td>\n",
       "      <td>107868989</td>\n",
       "      <td>357115007</td>\n",
       "      <td>PG-13</td>\n",
       "    </tr>\n",
       "    <tr>\n",
       "      <th>4</th>\n",
       "      <td>Mission: Impossible—The Final Reckoning</td>\n",
       "      <td>2025</td>\n",
       "      <td>400000000</td>\n",
       "      <td>0</td>\n",
       "      <td>0</td>\n",
       "      <td>NaN</td>\n",
       "      <td>NaN</td>\n",
       "      <td>NaN</td>\n",
       "      <td>NaN</td>\n",
       "      <td>NaN</td>\n",
       "      <td>NaN</td>\n",
       "    </tr>\n",
       "  </tbody>\n",
       "</table>\n",
       "</div>"
      ],
      "text/plain": [
       "                                Movie Name  release year  \\\n",
       "0     Star Wars Ep. VII: The Force Awakens          2015   \n",
       "1                 Avatar: The Way of Water          2022   \n",
       "2    Indiana Jones and the Dial of Destiny          2023   \n",
       "3                        Avengers: Endgame          2019   \n",
       "4  Mission: Impossible—The Final Reckoning          2025   \n",
       "\n",
       "   Production Budget (USD)  Domestic Gross (USD)  Worldwide Gross (USD)  \\\n",
       "0                533200000             936662225             2056046835   \n",
       "1                460000000             684075767             2315589775   \n",
       "2                402300000             174480468              383963057   \n",
       "3                400000000             858373000             2748242781   \n",
       "4                400000000                     0                      0   \n",
       "\n",
       "   Domestic Box Office (USD)  International Box Office (USD)  \\\n",
       "0                  936662225                      1119384610   \n",
       "1                  684075767                      1631514008   \n",
       "2                  174480468                       209482589   \n",
       "3                  858373000                      1889869781   \n",
       "4                        NaN                             NaN   \n",
       "\n",
       "   Worldwide Box Office (USD)  Total Est. Domestic Video Sales (USD)  \\\n",
       "0                  2056046835                              191160811   \n",
       "1                  2315589775                               19136524   \n",
       "2                   383963057                                    NaN   \n",
       "3                  2748242781                              107868989   \n",
       "4                         NaN                                    NaN   \n",
       "\n",
       "   Opening Weekend (USD) MPAA Rating  \n",
       "0              247966675       PG-13  \n",
       "1              134100226       PG-13  \n",
       "2               60368101       PG-13  \n",
       "3              357115007       PG-13  \n",
       "4                    NaN         NaN  "
      ]
     },
     "execution_count": 23,
     "metadata": {},
     "output_type": "execute_result"
    }
   ],
   "source": [
    "df_movies = pd.read_csv(\"https://raw.githubusercontent.com/sandeepmj/datasets/refs/heads/main/movie_sales_2025.csv\")\n",
    "df_movies.head()"
   ]
  },
  {
   "cell_type": "code",
   "execution_count": 25,
   "id": "198c306c-c32b-4cbc-afc7-1908e4ea8d74",
   "metadata": {},
   "outputs": [
    {
     "name": "stdout",
     "output_type": "stream",
     "text": [
      "<class 'pandas.core.frame.DataFrame'>\n",
      "RangeIndex: 6420 entries, 0 to 6419\n",
      "Data columns (total 11 columns):\n",
      " #   Column                                 Non-Null Count  Dtype  \n",
      "---  ------                                 --------------  -----  \n",
      " 0   Movie Name                             6420 non-null   object \n",
      " 1   release year                           6420 non-null   int64  \n",
      " 2   Production Budget (USD)                6420 non-null   int64  \n",
      " 3   Domestic Gross (USD)                   6420 non-null   int64  \n",
      " 4   Worldwide Gross (USD)                  6420 non-null   int64  \n",
      " 5   Domestic Box Office (USD)              5815 non-null   float64\n",
      " 6   International Box Office (USD)         5007 non-null   float64\n",
      " 7   Worldwide Box Office (USD)             5007 non-null   float64\n",
      " 8   Total Est. Domestic Video Sales (USD)  2742 non-null   float64\n",
      " 9   Opening Weekend (USD)                  5396 non-null   float64\n",
      " 10  MPAA Rating                            6103 non-null   object \n",
      "dtypes: float64(5), int64(4), object(2)\n",
      "memory usage: 551.8+ KB\n"
     ]
    }
   ],
   "source": [
    "## type \n",
    "\n",
    "df_movies.info()"
   ]
  },
  {
   "cell_type": "code",
   "execution_count": 31,
   "id": "d4d8d5da-0b45-459e-89f7-7e8d2fdd0474",
   "metadata": {},
   "outputs": [
    {
     "ename": "ParserError",
     "evalue": "Error tokenizing data. C error: Expected 1 fields in line 42, saw 49\n",
     "output_type": "error",
     "traceback": [
      "\u001b[0;31m---------------------------------------------------------------------------\u001b[0m",
      "\u001b[0;31mParserError\u001b[0m                               Traceback (most recent call last)",
      "Cell \u001b[0;32mIn[31], line 3\u001b[0m\n\u001b[1;32m      1\u001b[0m \u001b[38;5;66;03m## import CPI data\u001b[39;00m\n\u001b[0;32m----> 3\u001b[0m cpi_df \u001b[38;5;241m=\u001b[39m pd\u001b[38;5;241m.\u001b[39mread_csv(\u001b[38;5;124m\"\u001b[39m\u001b[38;5;124mhttps://github.com/Rhyannon-CUNY/adv-data-class/blob/main/CPI\u001b[39m\u001b[38;5;124m%\u001b[39m\u001b[38;5;124m20-\u001b[39m\u001b[38;5;124m%\u001b[39m\u001b[38;5;124m20Data.csv\u001b[39m\u001b[38;5;124m\"\u001b[39m)\n",
      "File \u001b[0;32m/opt/anaconda3/lib/python3.12/site-packages/pandas/io/parsers/readers.py:1026\u001b[0m, in \u001b[0;36mread_csv\u001b[0;34m(filepath_or_buffer, sep, delimiter, header, names, index_col, usecols, dtype, engine, converters, true_values, false_values, skipinitialspace, skiprows, skipfooter, nrows, na_values, keep_default_na, na_filter, verbose, skip_blank_lines, parse_dates, infer_datetime_format, keep_date_col, date_parser, date_format, dayfirst, cache_dates, iterator, chunksize, compression, thousands, decimal, lineterminator, quotechar, quoting, doublequote, escapechar, comment, encoding, encoding_errors, dialect, on_bad_lines, delim_whitespace, low_memory, memory_map, float_precision, storage_options, dtype_backend)\u001b[0m\n\u001b[1;32m   1013\u001b[0m kwds_defaults \u001b[38;5;241m=\u001b[39m _refine_defaults_read(\n\u001b[1;32m   1014\u001b[0m     dialect,\n\u001b[1;32m   1015\u001b[0m     delimiter,\n\u001b[0;32m   (...)\u001b[0m\n\u001b[1;32m   1022\u001b[0m     dtype_backend\u001b[38;5;241m=\u001b[39mdtype_backend,\n\u001b[1;32m   1023\u001b[0m )\n\u001b[1;32m   1024\u001b[0m kwds\u001b[38;5;241m.\u001b[39mupdate(kwds_defaults)\n\u001b[0;32m-> 1026\u001b[0m \u001b[38;5;28;01mreturn\u001b[39;00m _read(filepath_or_buffer, kwds)\n",
      "File \u001b[0;32m/opt/anaconda3/lib/python3.12/site-packages/pandas/io/parsers/readers.py:626\u001b[0m, in \u001b[0;36m_read\u001b[0;34m(filepath_or_buffer, kwds)\u001b[0m\n\u001b[1;32m    623\u001b[0m     \u001b[38;5;28;01mreturn\u001b[39;00m parser\n\u001b[1;32m    625\u001b[0m \u001b[38;5;28;01mwith\u001b[39;00m parser:\n\u001b[0;32m--> 626\u001b[0m     \u001b[38;5;28;01mreturn\u001b[39;00m parser\u001b[38;5;241m.\u001b[39mread(nrows)\n",
      "File \u001b[0;32m/opt/anaconda3/lib/python3.12/site-packages/pandas/io/parsers/readers.py:1923\u001b[0m, in \u001b[0;36mTextFileReader.read\u001b[0;34m(self, nrows)\u001b[0m\n\u001b[1;32m   1916\u001b[0m nrows \u001b[38;5;241m=\u001b[39m validate_integer(\u001b[38;5;124m\"\u001b[39m\u001b[38;5;124mnrows\u001b[39m\u001b[38;5;124m\"\u001b[39m, nrows)\n\u001b[1;32m   1917\u001b[0m \u001b[38;5;28;01mtry\u001b[39;00m:\n\u001b[1;32m   1918\u001b[0m     \u001b[38;5;66;03m# error: \"ParserBase\" has no attribute \"read\"\u001b[39;00m\n\u001b[1;32m   1919\u001b[0m     (\n\u001b[1;32m   1920\u001b[0m         index,\n\u001b[1;32m   1921\u001b[0m         columns,\n\u001b[1;32m   1922\u001b[0m         col_dict,\n\u001b[0;32m-> 1923\u001b[0m     ) \u001b[38;5;241m=\u001b[39m \u001b[38;5;28mself\u001b[39m\u001b[38;5;241m.\u001b[39m_engine\u001b[38;5;241m.\u001b[39mread(  \u001b[38;5;66;03m# type: ignore[attr-defined]\u001b[39;00m\n\u001b[1;32m   1924\u001b[0m         nrows\n\u001b[1;32m   1925\u001b[0m     )\n\u001b[1;32m   1926\u001b[0m \u001b[38;5;28;01mexcept\u001b[39;00m \u001b[38;5;167;01mException\u001b[39;00m:\n\u001b[1;32m   1927\u001b[0m     \u001b[38;5;28mself\u001b[39m\u001b[38;5;241m.\u001b[39mclose()\n",
      "File \u001b[0;32m/opt/anaconda3/lib/python3.12/site-packages/pandas/io/parsers/c_parser_wrapper.py:234\u001b[0m, in \u001b[0;36mCParserWrapper.read\u001b[0;34m(self, nrows)\u001b[0m\n\u001b[1;32m    232\u001b[0m \u001b[38;5;28;01mtry\u001b[39;00m:\n\u001b[1;32m    233\u001b[0m     \u001b[38;5;28;01mif\u001b[39;00m \u001b[38;5;28mself\u001b[39m\u001b[38;5;241m.\u001b[39mlow_memory:\n\u001b[0;32m--> 234\u001b[0m         chunks \u001b[38;5;241m=\u001b[39m \u001b[38;5;28mself\u001b[39m\u001b[38;5;241m.\u001b[39m_reader\u001b[38;5;241m.\u001b[39mread_low_memory(nrows)\n\u001b[1;32m    235\u001b[0m         \u001b[38;5;66;03m# destructive to chunks\u001b[39;00m\n\u001b[1;32m    236\u001b[0m         data \u001b[38;5;241m=\u001b[39m _concatenate_chunks(chunks)\n",
      "File \u001b[0;32mparsers.pyx:838\u001b[0m, in \u001b[0;36mpandas._libs.parsers.TextReader.read_low_memory\u001b[0;34m()\u001b[0m\n",
      "File \u001b[0;32mparsers.pyx:905\u001b[0m, in \u001b[0;36mpandas._libs.parsers.TextReader._read_rows\u001b[0;34m()\u001b[0m\n",
      "File \u001b[0;32mparsers.pyx:874\u001b[0m, in \u001b[0;36mpandas._libs.parsers.TextReader._tokenize_rows\u001b[0;34m()\u001b[0m\n",
      "File \u001b[0;32mparsers.pyx:891\u001b[0m, in \u001b[0;36mpandas._libs.parsers.TextReader._check_tokenize_status\u001b[0;34m()\u001b[0m\n",
      "File \u001b[0;32mparsers.pyx:2061\u001b[0m, in \u001b[0;36mpandas._libs.parsers.raise_parser_error\u001b[0;34m()\u001b[0m\n",
      "\u001b[0;31mParserError\u001b[0m: Error tokenizing data. C error: Expected 1 fields in line 42, saw 49\n"
     ]
    }
   ],
   "source": [
    "## import CPI data\n",
    "\n",
    "cpi_df = pd.read_csv(\"https://github.com/Rhyannon-CUNY/adv-data-class/blob/main/CPI%20-%20Data.csv\")"
   ]
  },
  {
   "cell_type": "code",
   "execution_count": null,
   "id": "54074162-853e-43b3-959a-9dcdde51e233",
   "metadata": {},
   "outputs": [],
   "source": []
  }
 ],
 "metadata": {
  "kernelspec": {
   "display_name": "Python [conda env:base] *",
   "language": "python",
   "name": "conda-base-py"
  },
  "language_info": {
   "codemirror_mode": {
    "name": "ipython",
    "version": 3
   },
   "file_extension": ".py",
   "mimetype": "text/x-python",
   "name": "python",
   "nbconvert_exporter": "python",
   "pygments_lexer": "ipython3",
   "version": "3.12.7"
  }
 },
 "nbformat": 4,
 "nbformat_minor": 5
}
